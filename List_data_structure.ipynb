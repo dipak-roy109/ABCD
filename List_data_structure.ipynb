{
 "cells": [
  {
   "cell_type": "markdown",
   "metadata": {},
   "source": [
    "<b style= color:red> Creation of list object: </b><br>"
   ]
  },
  {
   "cell_type": "code",
   "execution_count": 3,
   "metadata": {},
   "outputs": [
    {
     "name": "stdout",
     "output_type": "stream",
     "text": [
      "<class 'list'>\n",
      "[]\n"
     ]
    }
   ],
   "source": [
    "# Empty list object:\n",
    "l = []\n",
    "print(type(l))\n",
    "print(l)\n",
    "# if we know already:\n",
    "l = [10,20,30,40,50]"
   ]
  },
  {
   "cell_type": "code",
   "execution_count": 6,
   "metadata": {},
   "outputs": [
    {
     "name": "stdout",
     "output_type": "stream",
     "text": [
      "<class 'list'>\n",
      "[10, 20, 30, 40]\n"
     ]
    }
   ],
   "source": [
    "# Dynamic input:\n",
    "l = eval(input('Enter list:'))\n",
    "print(type(l))\n",
    "print(l)"
   ]
  },
  {
   "cell_type": "code",
   "execution_count": 9,
   "metadata": {},
   "outputs": [
    {
     "name": "stdout",
     "output_type": "stream",
     "text": [
      "['D', 'i', 'p', 'a', 'k', ' ', 'R', 'o', 'y']\n",
      "[0, 2, 4, 6, 8]\n"
     ]
    }
   ],
   "source": [
    "# by using list()\n",
    "l = list('Dipak Roy')\n",
    "print(l)\n",
    "\n",
    "l = list(range(0,10,2))\n",
    "print(l)"
   ]
  },
  {
   "cell_type": "code",
   "execution_count": 1,
   "metadata": {},
   "outputs": [
    {
     "name": "stdout",
     "output_type": "stream",
     "text": [
      "['learning', 'python', 'is', 'easy']\n"
     ]
    }
   ],
   "source": [
    "# by using split()\n",
    "s = 'learning python is easy'\n",
    "l = s.split()\n",
    "print(l)"
   ]
  },
  {
   "cell_type": "markdown",
   "metadata": {},
   "source": [
    "<b style= color:red> list Slice operator: </b><br>"
   ]
  },
  {
   "cell_type": "code",
   "execution_count": 6,
   "metadata": {},
   "outputs": [
    {
     "name": "stdout",
     "output_type": "stream",
     "text": [
      "[30, 40, 50, 60, 70]\n",
      "[30, 50, 70]\n",
      "[50, 70, 90]\n",
      "[90, 70, 50]\n",
      "[50, 60, 70, 80, 90, 100]\n",
      "[]\n",
      "[10, 20, 30, 40, 50, 60, 70, 80, 90, 100]\n",
      "[100, 90, 80, 70, 60, 50, 40, 30, 20, 10]\n"
     ]
    }
   ],
   "source": [
    "# Example: 01\n",
    "l = [10,20,30,40,50,60,70,80,90,100]\n",
    "print(l[2:7]) # [30,40,50,60,70]\n",
    "print(l[2:7:2]) # [30,50,70]\n",
    "print(l[4::2]) # [50,70,90]\n",
    "print(l[8:2:-2]) # [90,70,50]\n",
    "print(l[4:100]) # [50,60,70,80,90,100]\n",
    "print(l[4:0:2]) # []\n",
    "print(l[::1]) # [10,20,30,40,50,60,70,80,90,100]\n",
    "print(l[::-1]) # [100,90,80,70,60,50,40,30,20,10]"
   ]
  },
  {
   "cell_type": "markdown",
   "metadata": {},
   "source": [
    "<b style= color:red> Traversing elemet's of list: </b><br>\n"
   ]
  },
  {
   "cell_type": "code",
   "execution_count": 3,
   "metadata": {},
   "outputs": [
    {
     "name": "stdout",
     "output_type": "stream",
     "text": [
      "0\n",
      "1\n",
      "2\n",
      "3\n",
      "4\n",
      "5\n",
      "6\n",
      "7\n",
      "8\n",
      "9\n",
      "10\n"
     ]
    }
   ],
   "source": [
    "# using while loop:\n",
    "l = [0,1,2,3,4,5,6,7,8,9,10]\n",
    "i=0\n",
    "while i<len(l):\n",
    "    print(l[i])\n",
    "    i = i+1"
   ]
  },
  {
   "cell_type": "code",
   "execution_count": 8,
   "metadata": {},
   "outputs": [
    {
     "name": "stdout",
     "output_type": "stream",
     "text": [
      "0\n",
      "1\n",
      "2\n",
      "3\n",
      "4\n",
      "5\n",
      "6\n",
      "7\n",
      "8\n",
      "9\n",
      "10\n"
     ]
    }
   ],
   "source": [
    "# using for loop:\n",
    "l = [0,1,2,3,4,5,6,7,8,9,10]\n",
    "for x in l:\n",
    "    print(x)"
   ]
  },
  {
   "cell_type": "code",
   "execution_count": 10,
   "metadata": {},
   "outputs": [
    {
     "name": "stdout",
     "output_type": "stream",
     "text": [
      "0\n",
      "2\n",
      "4\n",
      "6\n",
      "8\n",
      "10\n"
     ]
    }
   ],
   "source": [
    "# to print only even number:\n",
    "l = [0,1,2,3,4,5,6,7,8,9,10]\n",
    "for x in l:\n",
    "    if x%2==0:\n",
    "        print(x)"
   ]
  },
  {
   "cell_type": "code",
   "execution_count": 13,
   "metadata": {},
   "outputs": [
    {
     "name": "stdout",
     "output_type": "stream",
     "text": [
      "1\n",
      "3\n",
      "5\n",
      "7\n",
      "9\n"
     ]
    }
   ],
   "source": [
    "# to print only odd number:\n",
    "l = [0,1,2,3,4,5,6,7,8,9,10]\n",
    "for x in l:\n",
    "    if x%2==1:\n",
    "        print(x)"
   ]
  },
  {
   "cell_type": "code",
   "execution_count": 17,
   "metadata": {},
   "outputs": [
    {
     "name": "stdout",
     "output_type": "stream",
     "text": [
      "The elements present at +ve index: 0 and at -ve index: -11 is: 0\n",
      "The elements present at +ve index: 1 and at -ve index: -10 is: 1\n",
      "The elements present at +ve index: 2 and at -ve index: -9 is: 2\n",
      "The elements present at +ve index: 3 and at -ve index: -8 is: 3\n",
      "The elements present at +ve index: 4 and at -ve index: -7 is: 4\n",
      "The elements present at +ve index: 5 and at -ve index: -6 is: 5\n",
      "The elements present at +ve index: 6 and at -ve index: -5 is: 6\n",
      "The elements present at +ve index: 7 and at -ve index: -4 is: 7\n",
      "The elements present at +ve index: 8 and at -ve index: -3 is: 8\n",
      "The elements present at +ve index: 9 and at -ve index: -2 is: 9\n",
      "The elements present at +ve index: 10 and at -ve index: -1 is: 10\n"
     ]
    }
   ],
   "source": [
    "# to print element'e of list index wise:\n",
    "l = [0,1,2,3,4,5,6,7,8,9,10]\n",
    "i = 0\n",
    "while i<len(l):\n",
    "    print('The elements present at +ve index: {} and at -ve index: {} is: {}'.format(i,i-len(l),l[i]))\n",
    "    i=i+1"
   ]
  },
  {
   "cell_type": "markdown",
   "metadata": {},
   "source": [
    "<b style= color:red> Mathmatical operators for list: </b><br>"
   ]
  },
  {
   "cell_type": "code",
   "execution_count": 2,
   "metadata": {},
   "outputs": [
    {
     "name": "stdout",
     "output_type": "stream",
     "text": [
      "[10, 20, 40, 50, 60, 70, 80, 90]\n"
     ]
    }
   ],
   "source": [
    "# Concatenation Operator:\n",
    "l1 = [10,20,40,50]\n",
    "l2 = [60,70,80,90]\n",
    "l3 = l1+l2 # All arguments should be list type\n",
    "print(l3)"
   ]
  },
  {
   "cell_type": "code",
   "execution_count": 4,
   "metadata": {},
   "outputs": [
    {
     "name": "stdout",
     "output_type": "stream",
     "text": [
      "[10, 20, 10, 20, 10, 20]\n"
     ]
    }
   ],
   "source": [
    "# Repetition Operator:\n",
    "l1 = [10,20]\n",
    "l2 = l1*3 # One argument should be list type or onother arguments should be int type\n",
    "print(l2)"
   ]
  },
  {
   "cell_type": "code",
   "execution_count": 1,
   "metadata": {},
   "outputs": [
    {
     "name": "stdout",
     "output_type": "stream",
     "text": [
      "[10, 20, 30, 40, 10, 20, 30, 40, 10, 20, 30, 40]\n"
     ]
    }
   ],
   "source": [
    "# Concatenation and Repetition Operator using same time\n",
    "l1 = [10,20]\n",
    "l2 = [30,40]\n",
    "l3 = l1+l2\n",
    "l4 = l3*3\n",
    "print(l4)"
   ]
  },
  {
   "cell_type": "markdown",
   "metadata": {},
   "source": [
    "<b style= color:red> Equality Operators for list: </b><br>"
   ]
  },
  {
   "cell_type": "code",
   "execution_count": 3,
   "metadata": {},
   "outputs": [
    {
     "name": "stdout",
     "output_type": "stream",
     "text": [
      "True\n",
      "False\n",
      "False\n",
      "True\n"
     ]
    }
   ],
   "source": [
    "# The number of elements must be same\n",
    "# the order of elements must be same\n",
    "# the content must be same including case\n",
    "\n",
    "l1 = ['Dipak', 'Imran', 'Shattajit']\n",
    "l2 = ['Dipak', 'Imran', 'Shattajit']\n",
    "l3 = ['DIPAK', 'IMRAN', 'SHATTAJIT']\n",
    "l4 = ['Imran', 'Shattajit','Dipak']\n",
    "print (l1==l2)\n",
    "print (l1==l3)\n",
    "print (l1==l4)\n",
    "print (l1 != l4)"
   ]
  },
  {
   "cell_type": "markdown",
   "metadata": {},
   "source": [
    "<b style= color:red> Relational Operators for list: </b><br>"
   ]
  },
  {
   "cell_type": "code",
   "execution_count": 9,
   "metadata": {},
   "outputs": [
    {
     "name": "stdout",
     "output_type": "stream",
     "text": [
      "True\n",
      "True\n",
      "False\n",
      "False\n"
     ]
    }
   ],
   "source": [
    "l1 = [10,20,30,40]\n",
    "l2 = [40,50]\n",
    "print(l1 < l2)\n",
    "print(l1 <= l2)\n",
    "print(l1 > l2)\n",
    "print(l1 >= l2)\n",
    "# it's Always gone to compair first elements level only"
   ]
  },
  {
   "cell_type": "markdown",
   "metadata": {},
   "source": [
    "<b style= color:red> Membership Operators for list: </b><br>"
   ]
  },
  {
   "cell_type": "code",
   "execution_count": 11,
   "metadata": {},
   "outputs": [
    {
     "name": "stdout",
     "output_type": "stream",
     "text": [
      "True\n",
      "False\n",
      "False\n",
      "True\n"
     ]
    }
   ],
   "source": [
    "l = [10,20,30,40]\n",
    "print(10 in l1)\n",
    "print(50 in l1)\n",
    "print(30 not in l1)\n",
    "print(70 not in l1)"
   ]
  },
  {
   "cell_type": "markdown",
   "metadata": {},
   "source": [
    "<b style= color:red> Important methods and functions for list: </b><br>"
   ]
  },
  {
   "cell_type": "code",
   "execution_count": 15,
   "metadata": {},
   "outputs": [
    {
     "name": "stdout",
     "output_type": "stream",
     "text": [
      "3\n"
     ]
    }
   ],
   "source": [
    "# For len(): How many elements in the list\n",
    "l = [10,20,30]\n",
    "print(len(l))\n"
   ]
  },
  {
   "cell_type": "code",
   "execution_count": 17,
   "metadata": {},
   "outputs": [
    {
     "name": "stdout",
     "output_type": "stream",
     "text": [
      "3\n",
      "1\n",
      "0\n"
     ]
    }
   ],
   "source": [
    "# for count(): How many time available in the list\n",
    "l = [10,20,10,20,10,20,40,]\n",
    "print(l.count(10))\n",
    "print(l.count(40))\n",
    "print(l.count(50))"
   ]
  },
  {
   "cell_type": "code",
   "execution_count": 19,
   "metadata": {},
   "outputs": [
    {
     "name": "stdout",
     "output_type": "stream",
     "text": [
      "0\n",
      "1\n",
      "5\n"
     ]
    },
    {
     "ename": "ValueError",
     "evalue": "5 is not in list",
     "output_type": "error",
     "traceback": [
      "\u001b[1;31m---------------------------------------------------------------------------\u001b[0m",
      "\u001b[1;31mValueError\u001b[0m                                Traceback (most recent call last)",
      "\u001b[1;32m~\\AppData\\Local\\Temp/ipykernel_3364/2568278850.py\u001b[0m in \u001b[0;36m<module>\u001b[1;34m\u001b[0m\n\u001b[0;32m      4\u001b[0m \u001b[0mprint\u001b[0m\u001b[1;33m(\u001b[0m\u001b[0ml\u001b[0m\u001b[1;33m.\u001b[0m\u001b[0mindex\u001b[0m\u001b[1;33m(\u001b[0m\u001b[1;36m2\u001b[0m\u001b[1;33m)\u001b[0m\u001b[1;33m)\u001b[0m\u001b[1;33m\u001b[0m\u001b[1;33m\u001b[0m\u001b[0m\n\u001b[0;32m      5\u001b[0m \u001b[0mprint\u001b[0m\u001b[1;33m(\u001b[0m\u001b[0ml\u001b[0m\u001b[1;33m.\u001b[0m\u001b[0mindex\u001b[0m\u001b[1;33m(\u001b[0m\u001b[1;36m4\u001b[0m\u001b[1;33m)\u001b[0m\u001b[1;33m)\u001b[0m\u001b[1;33m\u001b[0m\u001b[1;33m\u001b[0m\u001b[0m\n\u001b[1;32m----> 6\u001b[1;33m \u001b[0mprint\u001b[0m\u001b[1;33m(\u001b[0m\u001b[0ml\u001b[0m\u001b[1;33m.\u001b[0m\u001b[0mindex\u001b[0m\u001b[1;33m(\u001b[0m\u001b[1;36m5\u001b[0m\u001b[1;33m)\u001b[0m\u001b[1;33m)\u001b[0m \u001b[1;31m# get error reason is 5 is not list\u001b[0m\u001b[1;33m\u001b[0m\u001b[1;33m\u001b[0m\u001b[0m\n\u001b[0m",
      "\u001b[1;31mValueError\u001b[0m: 5 is not in list"
     ]
    }
   ],
   "source": [
    "# For index():\n",
    "l = [1,2,1,2,3,4]\n",
    "print(l.index(1))\n",
    "print(l.index(2))\n",
    "print(l.index(4))\n",
    "print(l.index(5)) # get error reason is 5 is not list"
   ]
  },
  {
   "cell_type": "code",
   "execution_count": 27,
   "metadata": {},
   "outputs": [
    {
     "name": "stdout",
     "output_type": "stream",
     "text": [
      "5 is not available in the list\n"
     ]
    }
   ],
   "source": [
    "l = [1,2,1,2,3]\n",
    "x = int(input('Enter element of find index:'))\n",
    "if x in l:\n",
    "    print('{} present at index: {}'.format(x,l.index(x)))\n",
    "else:\n",
    "    print(x,'is not available in the list')"
   ]
  },
  {
   "cell_type": "markdown",
   "metadata": {},
   "source": [
    "<b style= color:red> Manipulating Elements of list: </b><br>"
   ]
  },
  {
   "cell_type": "code",
   "execution_count": 29,
   "metadata": {},
   "outputs": [
    {
     "name": "stdout",
     "output_type": "stream",
     "text": [
      "[10, 20, 30, 40]\n"
     ]
    }
   ],
   "source": [
    "# append(): append method to add given element to the list, this elements will be add of the list position\n",
    "l = [10]\n",
    "l.append(20)\n",
    "l.append(30)\n",
    "l.append(40)\n",
    "print(l)"
   ]
  },
  {
   "cell_type": "code",
   "execution_count": 31,
   "metadata": {},
   "outputs": [
    {
     "name": "stdout",
     "output_type": "stream",
     "text": [
      "[10, 20, 30, 40, 50, 60, 70, 80, 90, 100]\n"
     ]
    }
   ],
   "source": [
    "# How to add which are divisible by 10 from 1 to 100\n",
    "l = []\n",
    "for x in range(1,101):\n",
    "    if x%10==0:\n",
    "        l.append(x)\n",
    "print(l)"
   ]
  },
  {
   "cell_type": "code",
   "execution_count": 33,
   "metadata": {},
   "outputs": [
    {
     "name": "stdout",
     "output_type": "stream",
     "text": [
      "[10, 20, 30, 40, 20]\n"
     ]
    }
   ],
   "source": [
    "# insert method(): syntax: l.insert(index,element)\n",
    "l = [10,30,40,20]\n",
    "l.insert(1,20)\n",
    "print(l) "
   ]
  },
  {
   "cell_type": "code",
   "execution_count": 1,
   "metadata": {},
   "outputs": [
    {
     "name": "stdout",
     "output_type": "stream",
     "text": [
      "[10, 20, 30, 40, 77]\n",
      "[99, 10, 20, 30, 40, 77]\n"
     ]
    }
   ],
   "source": [
    "l = [10,20,30,40]\n",
    "l.insert(100,77)\n",
    "print(l)\n",
    "l.insert(-100,99)\n",
    "print(l)"
   ]
  },
  {
   "cell_type": "code",
   "execution_count": 3,
   "metadata": {},
   "outputs": [
    {
     "name": "stdout",
     "output_type": "stream",
     "text": [
      "['Chicken', 'Mutton', 'Fish', 'KF', 'KO', 'RC']\n"
     ]
    }
   ],
   "source": [
    "# Extend Method(): To add all elements of given sequence to the list:\n",
    "# Syntax: l1.extend(l2)\n",
    "order1 = ['Chicken','Mutton','Fish']\n",
    "order2 = ['KF','KO','RC']\n",
    "order1.extend(order2)\n",
    "print(order1)"
   ]
  },
  {
   "cell_type": "code",
   "execution_count": 5,
   "metadata": {},
   "outputs": [
    {
     "name": "stdout",
     "output_type": "stream",
     "text": [
      "[10, 20, 30, [40, 50]]\n",
      "4\n"
     ]
    }
   ],
   "source": [
    "# Using append method()\n",
    "l1 = [10,20,30]\n",
    "l2 = [40,50]\n",
    "l1.append(l2)\n",
    "print(l1)\n",
    "print(len(l1))"
   ]
  },
  {
   "cell_type": "code",
   "execution_count": 7,
   "metadata": {},
   "outputs": [
    {
     "name": "stdout",
     "output_type": "stream",
     "text": [
      "[10, 20, 30, 40, 50]\n",
      "5\n"
     ]
    }
   ],
   "source": [
    "# Using extend method()\n",
    "l1 = [10,20,30]\n",
    "l2 =[40,50]\n",
    "l1.extend(l2)\n",
    "print(l1)\n",
    "print(len(l1))"
   ]
  },
  {
   "cell_type": "code",
   "execution_count": 9,
   "metadata": {},
   "outputs": [
    {
     "name": "stdout",
     "output_type": "stream",
     "text": [
      "[10, 20, 'ABC']\n",
      "3\n"
     ]
    }
   ],
   "source": [
    "# Using append method()\n",
    "l1 = [10,20]\n",
    "l1.append('ABC')\n",
    "print(l1)\n",
    "print(len(l1))"
   ]
  },
  {
   "cell_type": "code",
   "execution_count": 11,
   "metadata": {},
   "outputs": [
    {
     "name": "stdout",
     "output_type": "stream",
     "text": [
      "[10, 20, 'A', 'B', 'C']\n",
      "5\n"
     ]
    }
   ],
   "source": [
    "# Using extend method()\n",
    "l1 = [10,20]\n",
    "l1.extend('ABC')\n",
    "print(l1)\n",
    "print(len(l1))"
   ]
  },
  {
   "cell_type": "code",
   "execution_count": 13,
   "metadata": {},
   "outputs": [
    {
     "name": "stdout",
     "output_type": "stream",
     "text": [
      "[10, 20, 10, 20]\n",
      "[20, 10, 20]\n"
     ]
    },
    {
     "ename": "ValueError",
     "evalue": "list.remove(x): x not in list",
     "output_type": "error",
     "traceback": [
      "\u001b[1;31m---------------------------------------------------------------------------\u001b[0m",
      "\u001b[1;31mValueError\u001b[0m                                Traceback (most recent call last)",
      "\u001b[1;32m~\\AppData\\Local\\Temp/ipykernel_8868/2243443089.py\u001b[0m in \u001b[0;36m<module>\u001b[1;34m\u001b[0m\n\u001b[0;32m      6\u001b[0m \u001b[0ml\u001b[0m\u001b[1;33m.\u001b[0m\u001b[0mremove\u001b[0m\u001b[1;33m(\u001b[0m\u001b[1;36m10\u001b[0m\u001b[1;33m)\u001b[0m \u001b[1;31m# first 10 element is remove\u001b[0m\u001b[1;33m\u001b[0m\u001b[1;33m\u001b[0m\u001b[0m\n\u001b[0;32m      7\u001b[0m \u001b[0mprint\u001b[0m\u001b[1;33m(\u001b[0m\u001b[0ml\u001b[0m\u001b[1;33m)\u001b[0m\u001b[1;33m\u001b[0m\u001b[1;33m\u001b[0m\u001b[0m\n\u001b[1;32m----> 8\u001b[1;33m \u001b[0ml\u001b[0m\u001b[1;33m.\u001b[0m\u001b[0mremove\u001b[0m\u001b[1;33m(\u001b[0m\u001b[1;36m50\u001b[0m\u001b[1;33m)\u001b[0m \u001b[1;31m# get value error\u001b[0m\u001b[1;33m\u001b[0m\u001b[1;33m\u001b[0m\u001b[0m\n\u001b[0m\u001b[0;32m      9\u001b[0m \u001b[0mprint\u001b[0m\u001b[1;33m(\u001b[0m\u001b[0ml\u001b[0m\u001b[1;33m)\u001b[0m\u001b[1;33m\u001b[0m\u001b[1;33m\u001b[0m\u001b[0m\n",
      "\u001b[1;31mValueError\u001b[0m: list.remove(x): x not in list"
     ]
    }
   ],
   "source": [
    "# remove method()\n",
    "# syntax => l.remove(x)\n",
    "l = [10,20,10,20,40]\n",
    "l.remove(40)\n",
    "print(l)\n",
    "l.remove(10) # first 10 element is remove\n",
    "print(l)\n",
    "l.remove(50) # get value error\n",
    "print(l)"
   ]
  },
  {
   "cell_type": "code",
   "execution_count": 1,
   "metadata": {},
   "outputs": [
    {
     "name": "stdout",
     "output_type": "stream",
     "text": [
      "Before Removal [1, 2, 3, 4, 5, 6, 7]\n",
      "8 not available in the list\n"
     ]
    }
   ],
   "source": [
    "l = [1,2,3,4,5,6,7]\n",
    "print('Before Removal',l)\n",
    "x = int(input('Enter the value of remove'))\n",
    "if x in l:\n",
    "    l.remove(x)\n",
    "    print('After Removal:',l)\n",
    "else:\n",
    "    print(x,'not available in the list') "
   ]
  },
  {
   "cell_type": "code",
   "execution_count": 3,
   "metadata": {},
   "outputs": [
    {
     "name": "stdout",
     "output_type": "stream",
     "text": [
      "Before removal [1, 1, 1, 1, 2, 2, 2, 3, 3]\n",
      "After removal: [2, 2, 2, 3, 3]\n"
     ]
    }
   ],
   "source": [
    "# How to remove all occurrences?\n",
    "l = [1,1,1,1,2,2,2,3,3]\n",
    "print('Before removal',l)\n",
    "x = int(input('Enter element to remove:'))\n",
    "while True:\n",
    "    if x in l:\n",
    "        l.remove(x)\n",
    "    else:\n",
    "        break\n",
    "print('After removal:',l)"
   ]
  },
  {
   "cell_type": "code",
   "execution_count": 7,
   "metadata": {},
   "outputs": [
    {
     "name": "stdout",
     "output_type": "stream",
     "text": [
      "30\n",
      "[10, 20]\n",
      "20\n",
      "[10]\n",
      "10\n",
      "[]\n"
     ]
    },
    {
     "ename": "IndexError",
     "evalue": "pop from empty list",
     "output_type": "error",
     "traceback": [
      "\u001b[1;31m---------------------------------------------------------------------------\u001b[0m",
      "\u001b[1;31mIndexError\u001b[0m                                Traceback (most recent call last)",
      "\u001b[1;32m~\\AppData\\Local\\Temp/ipykernel_11900/541878322.py\u001b[0m in \u001b[0;36m<module>\u001b[1;34m\u001b[0m\n\u001b[0;32m      8\u001b[0m \u001b[0mprint\u001b[0m\u001b[1;33m(\u001b[0m\u001b[0ml\u001b[0m\u001b[1;33m.\u001b[0m\u001b[0mpop\u001b[0m\u001b[1;33m(\u001b[0m\u001b[1;33m)\u001b[0m\u001b[1;33m)\u001b[0m\u001b[1;33m\u001b[0m\u001b[1;33m\u001b[0m\u001b[0m\n\u001b[0;32m      9\u001b[0m \u001b[0mprint\u001b[0m\u001b[1;33m(\u001b[0m\u001b[0ml\u001b[0m\u001b[1;33m)\u001b[0m\u001b[1;33m\u001b[0m\u001b[1;33m\u001b[0m\u001b[0m\n\u001b[1;32m---> 10\u001b[1;33m \u001b[0mprint\u001b[0m\u001b[1;33m(\u001b[0m\u001b[0ml\u001b[0m\u001b[1;33m.\u001b[0m\u001b[0mpop\u001b[0m\u001b[1;33m(\u001b[0m\u001b[1;33m)\u001b[0m\u001b[1;33m)\u001b[0m\u001b[1;33m\u001b[0m\u001b[1;33m\u001b[0m\u001b[0m\n\u001b[0m\u001b[0;32m     11\u001b[0m \u001b[0mprint\u001b[0m\u001b[1;33m(\u001b[0m\u001b[0ml\u001b[0m\u001b[1;33m)\u001b[0m \u001b[1;31m# IndexError: pop from empty list\u001b[0m\u001b[1;33m\u001b[0m\u001b[1;33m\u001b[0m\u001b[0m\n",
      "\u001b[1;31mIndexError\u001b[0m: pop from empty list"
     ]
    }
   ],
   "source": [
    "# pop():\n",
    "# it removes and returns the last element of the list:\n",
    "l = [10,20,30]\n",
    "print(l.pop())\n",
    "print(l)\n",
    "print(l.pop())\n",
    "print(l)\n",
    "print(l.pop())\n",
    "print(l)\n",
    "print(l.pop())\n",
    "print(l) # IndexError: pop from empty list\n"
   ]
  },
  {
   "cell_type": "code",
   "execution_count": 9,
   "metadata": {},
   "outputs": [
    {
     "name": "stdout",
     "output_type": "stream",
     "text": [
      "20\n",
      "[10, 30, 40]\n"
     ]
    },
    {
     "ename": "IndexError",
     "evalue": "pop index out of range",
     "output_type": "error",
     "traceback": [
      "\u001b[1;31m---------------------------------------------------------------------------\u001b[0m",
      "\u001b[1;31mIndexError\u001b[0m                                Traceback (most recent call last)",
      "\u001b[1;32m~\\AppData\\Local\\Temp/ipykernel_11900/2710507044.py\u001b[0m in \u001b[0;36m<module>\u001b[1;34m\u001b[0m\n\u001b[0;32m      2\u001b[0m \u001b[0mprint\u001b[0m\u001b[1;33m(\u001b[0m\u001b[0ml\u001b[0m\u001b[1;33m.\u001b[0m\u001b[0mpop\u001b[0m\u001b[1;33m(\u001b[0m\u001b[1;36m1\u001b[0m\u001b[1;33m)\u001b[0m\u001b[1;33m)\u001b[0m\u001b[1;33m\u001b[0m\u001b[1;33m\u001b[0m\u001b[0m\n\u001b[0;32m      3\u001b[0m \u001b[0mprint\u001b[0m\u001b[1;33m(\u001b[0m\u001b[0ml\u001b[0m\u001b[1;33m)\u001b[0m\u001b[1;33m\u001b[0m\u001b[1;33m\u001b[0m\u001b[0m\n\u001b[1;32m----> 4\u001b[1;33m \u001b[0mprint\u001b[0m\u001b[1;33m(\u001b[0m\u001b[0ml\u001b[0m\u001b[1;33m.\u001b[0m\u001b[0mpop\u001b[0m\u001b[1;33m(\u001b[0m\u001b[1;36m4\u001b[0m\u001b[1;33m)\u001b[0m\u001b[1;33m)\u001b[0m\u001b[1;33m\u001b[0m\u001b[1;33m\u001b[0m\u001b[0m\n\u001b[0m\u001b[0;32m      5\u001b[0m \u001b[0mprint\u001b[0m\u001b[1;33m(\u001b[0m\u001b[0ml\u001b[0m\u001b[1;33m)\u001b[0m \u001b[1;31m# IndexError: pop index out of range\u001b[0m\u001b[1;33m\u001b[0m\u001b[1;33m\u001b[0m\u001b[0m\n",
      "\u001b[1;31mIndexError\u001b[0m: pop index out of range"
     ]
    }
   ],
   "source": [
    "l = [10,20,30,40]\n",
    "print(l.pop(1))\n",
    "print(l)\n",
    "print(l.pop(4))\n",
    "print(l) # IndexError: pop index out of range"
   ]
  },
  {
   "cell_type": "code",
   "execution_count": 12,
   "metadata": {},
   "outputs": [
    {
     "name": "stdout",
     "output_type": "stream",
     "text": [
      "[10, 20, 30, 40]\n",
      "None\n",
      "[]\n"
     ]
    }
   ],
   "source": [
    "# clear()\n",
    "l = [10,20,30,40]\n",
    "print(l)\n",
    "print(l.clear()) # all element remove from the list\n",
    "print(l)"
   ]
  },
  {
   "cell_type": "markdown",
   "metadata": {},
   "source": [
    "<b style= color:red> Ordering Elements of list: </b><br>"
   ]
  },
  {
   "cell_type": "code",
   "execution_count": 15,
   "metadata": {},
   "outputs": [
    {
     "name": "stdout",
     "output_type": "stream",
     "text": [
      "Before reversal:  [10, 20, 30, 40]\n",
      "After reversal:  [40, 30, 20, 10]\n"
     ]
    }
   ],
   "source": [
    "# reverse()\n",
    "# we can use to reverse() order of elements of list:\n",
    "l = [10,20,30,40]\n",
    "print('Before reversal: ', l)\n",
    "l.reverse()\n",
    "print('After reversal: ', l) "
   ]
  },
  {
   "cell_type": "code",
   "execution_count": 1,
   "metadata": {},
   "outputs": [
    {
     "name": "stdout",
     "output_type": "stream",
     "text": [
      "[40, 30, 20, 10]\n",
      "[10, 20, 30, 40]\n"
     ]
    }
   ],
   "source": [
    "# reversed ():\n",
    "l = [10,20,30,40]\n",
    "r = reversed(l)\n",
    "l1 = list(r)\n",
    "print(l1)\n",
    "print(l)"
   ]
  },
  {
   "cell_type": "code",
   "execution_count": 3,
   "metadata": {},
   "outputs": [
    {
     "name": "stdout",
     "output_type": "stream",
     "text": [
      "Before sorting: [20, 5, 15, 0, 10]\n",
      "After sorting: [0, 5, 10, 15, 20]\n"
     ]
    }
   ],
   "source": [
    "# sort()\n",
    "l = [20,5,15,0,10]\n",
    "print('Before sorting:',l)\n",
    "l.sort()\n",
    "print('After sorting:',l)"
   ]
  },
  {
   "cell_type": "code",
   "execution_count": 5,
   "metadata": {},
   "outputs": [
    {
     "name": "stdout",
     "output_type": "stream",
     "text": [
      "Before sortig: ['Dog', 'Banana', 'Cat', 'Cow', 'Apple']\n",
      "After sorting: ['Apple', 'Banana', 'Cat', 'Cow', 'Dog']\n"
     ]
    }
   ],
   "source": [
    "# For strings:\n",
    "l = ['Dog','Banana','Cat','Cow','Apple']\n",
    "print('Before sortig:',l)\n",
    "l.sort()\n",
    "print('After sorting:',l)"
   ]
  },
  {
   "cell_type": "code",
   "execution_count": 1,
   "metadata": {},
   "outputs": [
    {
     "name": "stdout",
     "output_type": "stream",
     "text": [
      "Before Sorting: [20, 0, 5, 15, 10]\n",
      "After Sorting: [20, 15, 10, 5, 0]\n"
     ]
    }
   ],
   "source": [
    "# For Descending order:\n",
    "l = [20,0,5,15,10]\n",
    "print('Before Sorting:',l)\n",
    "l.sort(reverse=True)\n",
    "print('After Sorting:',l)"
   ]
  },
  {
   "cell_type": "markdown",
   "metadata": {},
   "source": [
    "<b style= color:red> Aliasing and Cloning of list Objects: </b><br>"
   ]
  },
  {
   "cell_type": "code",
   "execution_count": 7,
   "metadata": {},
   "outputs": [
    {
     "name": "stdout",
     "output_type": "stream",
     "text": [
      "Main list is:  [10, 20, 30, 40]\n",
      "Alasing list is:  [10, 20, 30, 40]\n",
      "[10, 20, 220, 40]\n",
      "[10, 20, 220, 40]\n",
      "2759142145792\n",
      "2759142145792\n",
      "True\n"
     ]
    }
   ],
   "source": [
    "# Aliasing:\n",
    "l1 = [10,20,30,40]\n",
    "l2 = l1\n",
    "print('Main list is: ', l1)\n",
    "print('Alasing list is: ', l2)\n",
    "l1[2] = 220\n",
    "print(l1)\n",
    "print(l2)\n",
    "print(id (l1))\n",
    "print(id (l2))\n",
    "print(l1 is l2)"
   ]
  },
  {
   "cell_type": "code",
   "execution_count": 10,
   "metadata": {},
   "outputs": [
    {
     "name": "stdout",
     "output_type": "stream",
     "text": [
      "2759125694976\n",
      "2759143092352\n",
      "False\n",
      "[10, 77, 30, 40]\n",
      "[10, 20, 30, 40]\n"
     ]
    }
   ],
   "source": [
    "# Cloning by using 1. Slice operator or 2. Copy function\n",
    "# Slice Operator: \n",
    "l1 = [10,20,30,40]\n",
    "l2 = l1[::]\n",
    "print(id(l1))\n",
    "print(id(l2))\n",
    "print(l1 is l2)\n",
    "l1 [1] = 77\n",
    "print(l1)\n",
    "print(l2)"
   ]
  },
  {
   "cell_type": "code",
   "execution_count": 1,
   "metadata": {},
   "outputs": [
    {
     "name": "stdout",
     "output_type": "stream",
     "text": [
      "[10, 20, 30, 40]\n",
      "[10, 20, 202, 40]\n"
     ]
    }
   ],
   "source": [
    "# Copy function:\n",
    "l1 = [10,20,30,40]\n",
    "l2 = l1.copy()\n",
    "l2[2] = 202\n",
    "print(l1)\n",
    "print(l2)"
   ]
  },
  {
   "cell_type": "markdown",
   "metadata": {},
   "source": [
    "<b style= color:red> Nested List: </b><br>"
   ]
  },
  {
   "cell_type": "code",
   "execution_count": 5,
   "metadata": {},
   "outputs": [
    {
     "name": "stdout",
     "output_type": "stream",
     "text": [
      "10\n",
      "20\n",
      "30\n",
      "[40, 50]\n",
      "40\n",
      "50\n"
     ]
    }
   ],
   "source": [
    "# We can access nested list elements by using index just like accessing multi dimensional array elements\n",
    "l = [10,20,30,[40,50]]\n",
    "print(l[0])\n",
    "print(l[1])\n",
    "print(l[2])\n",
    "print(l[3])\n",
    "print(l[3][0])\n",
    "print(l[3][1])"
   ]
  },
  {
   "cell_type": "markdown",
   "metadata": {},
   "source": [
    "<b style= color:red> Nested list as matrix: </b><br>"
   ]
  },
  {
   "cell_type": "code",
   "execution_count": 14,
   "metadata": {},
   "outputs": [
    {
     "name": "stdout",
     "output_type": "stream",
     "text": [
      "[[10, 20, 30], [40, 50, 60], [70, 80, 90]]\n",
      "Elements by row wise:\n",
      "10 20 30 \n",
      "40 50 60 \n",
      "70 80 90 \n"
     ]
    }
   ],
   "source": [
    "# In python we can represent matrix by using nested list:\n",
    "l = [[10,20,30],[40,50,60],[70,80,90]]\n",
    "print(l)\n",
    "print('Elements by row wise:')\n",
    "for x in l:\n",
    "    for y in x:\n",
    "        print(y,end=' ')\n",
    "    print()"
   ]
  },
  {
   "cell_type": "code",
   "execution_count": 29,
   "metadata": {},
   "outputs": [
    {
     "name": "stdout",
     "output_type": "stream",
     "text": [
      "[[1, 2, 3], [4, 5, 6], [7, 8, 9]]\n",
      "Elemnts by list wise:\n",
      "[1, 2, 3]\n",
      "[1, 2, 3]\n",
      "[4, 5, 6]\n",
      "[7, 8, 9]\n",
      "Elements by matrix wise:\n",
      "1 2 3 \n",
      "4 5 6 \n",
      "7 8 9 \n"
     ]
    }
   ],
   "source": [
    "l = [[1,2,3],[4,5,6],[7,8,9]]\n",
    "print(l)\n",
    "print('Elemnts by list wise:')\n",
    "print(l[0])\n",
    "for x in l:\n",
    "    print(x)\n",
    "print('Elements by matrix wise:')\n",
    "for x in l:\n",
    "    for y in x:\n",
    "        print(y,end=' ')\n",
    "    print()"
   ]
  },
  {
   "cell_type": "markdown",
   "metadata": {},
   "source": [
    "<b style= color:red> list Comprehension: </b><br>"
   ]
  },
  {
   "cell_type": "code",
   "execution_count": 33,
   "metadata": {},
   "outputs": [
    {
     "name": "stdout",
     "output_type": "stream",
     "text": [
      "[1, 4, 9, 16, 25, 36, 49, 64, 81, 100]\n"
     ]
    }
   ],
   "source": [
    "# It is very easy and compact way of creating list objects from any iterable objets.\n",
    "# Creating of list with square value from 1 to 10\n",
    "l = [x*x for x in range(1,11)]\n",
    "print(l)"
   ]
  },
  {
   "cell_type": "code",
   "execution_count": 35,
   "metadata": {},
   "outputs": [
    {
     "name": "stdout",
     "output_type": "stream",
     "text": [
      "[3, 9, 27, 81, 243]\n"
     ]
    }
   ],
   "source": [
    "l = [3**x for x in range (1,6)]\n",
    "print(l)"
   ]
  },
  {
   "cell_type": "code",
   "execution_count": 1,
   "metadata": {},
   "outputs": [
    {
     "name": "stdout",
     "output_type": "stream",
     "text": [
      "[10, 20, 30, 40, 50, 60, 70, 80, 90, 100]\n"
     ]
    }
   ],
   "source": [
    "l = [x for x in range(1,101) if x%10==0]\n",
    "print(l)"
   ]
  },
  {
   "cell_type": "code",
   "execution_count": 7,
   "metadata": {},
   "outputs": [
    {
     "name": "stdout",
     "output_type": "stream",
     "text": [
      "[20, 40]\n",
      "[10, 30]\n"
     ]
    }
   ],
   "source": [
    "l1 = [10,20,30,40]\n",
    "l2 = [20,40,50,60]\n",
    "# Create list with elements present in l1 and in l2\n",
    "l3 = [x for x in l1 if x in l2]\n",
    "print(l3)\n",
    "# Create list with elements present in l1 but not in l2\n",
    "l4 = [x for x in l1 if x not in l2]\n",
    "print(l4)"
   ]
  },
  {
   "cell_type": "code",
   "execution_count": 10,
   "metadata": {},
   "outputs": [
    {
     "name": "stdout",
     "output_type": "stream",
     "text": [
      "['D', 'S', 'I', 'S']\n",
      "['i', 'h', 'm', 'a']\n"
     ]
    }
   ],
   "source": [
    "l =['Dipak','Shattajit','Imran','Sajol']\n",
    "# Create a new list only first letter from every word\n",
    "l1 = [word[0] for word in l]\n",
    "print(l1)\n",
    "# Create a new list only Second letter from every word\n",
    "l2 =[word[1] for word in l]\n",
    "print(l2)"
   ]
  },
  {
   "cell_type": "code",
   "execution_count": 17,
   "metadata": {},
   "outputs": [
    {
     "name": "stdout",
     "output_type": "stream",
     "text": [
      "['The', 'quick', 'brown', 'fox', 'jumps', 'over', 'the', 'lazy', 'dog']\n",
      "[['THE', 3], ['QUICK', 5], ['BROWN', 5], ['FOX', 3], ['JUMPS', 5], ['OVER', 4], ['THE', 3], ['LAZY', 4], ['DOG', 3]]\n"
     ]
    }
   ],
   "source": [
    "s = 'The quick brown fox jumps over the lazy dog'\n",
    "words = s.split()\n",
    "print(words)\n",
    "l = [[word.upper(),len(word)] for word in words]\n",
    "print(l)"
   ]
  },
  {
   "cell_type": "code",
   "execution_count": 19,
   "metadata": {},
   "outputs": [
    {
     "name": "stdout",
     "output_type": "stream",
     "text": [
      "['a']\n",
      "The number of unique vowels: 1\n"
     ]
    }
   ],
   "source": [
    "# Program to display unique vowels present in the given word?\n",
    "vowels = ['a','e','i','o','u']\n",
    "word = input('Enter Any word to search for vowels:')\n",
    "result = []\n",
    "for ch in word:\n",
    "    if ch in vowels:\n",
    "        if ch not in result:\n",
    "            result.append(ch)\n",
    "print(result)\n",
    "print('The number of unique vowels:', len(result))"
   ]
  },
  {
   "cell_type": "code",
   "execution_count": 20,
   "metadata": {},
   "outputs": [
    {
     "name": "stdout",
     "output_type": "stream",
     "text": [
      "['a', 'i']\n"
     ]
    }
   ],
   "source": [
    "# Program to display unique vowels present in the given word?\n",
    "# Using Comprechensions:\n",
    "vowels = ['a','e','i','o','u']\n",
    "word = input('Enter Any word to search for vowels:')\n",
    "result = [ch for ch in vowels if ch in word]\n",
    "print(result)"
   ]
  }
 ],
 "metadata": {
  "interpreter": {
   "hash": "c44560420d90d8e783ad1533784c8a7d77db420ad0899cbf48f49cdaa9008d51"
  },
  "kernelspec": {
   "display_name": "Python 3.9.7 64-bit",
   "language": "python",
   "name": "python3"
  },
  "language_info": {
   "codemirror_mode": {
    "name": "ipython",
    "version": 3
   },
   "file_extension": ".py",
   "mimetype": "text/x-python",
   "name": "python",
   "nbconvert_exporter": "python",
   "pygments_lexer": "ipython3",
   "version": "3.9.7"
  },
  "orig_nbformat": 4
 },
 "nbformat": 4,
 "nbformat_minor": 2
}

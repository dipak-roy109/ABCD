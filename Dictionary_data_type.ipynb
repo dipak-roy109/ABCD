{
 "cells": [
  {
   "cell_type": "code",
   "execution_count": 2,
   "metadata": {},
   "outputs": [
    {
     "name": "stdout",
     "output_type": "stream",
     "text": [
      "dictionary is: {100: 'Dipak', 200: 'Mamun', 300: 'imran'}\n"
     ]
    }
   ],
   "source": [
    "#list of tuple:\n",
    "l = [(100,'Dipak'),(200,'Mamun'),(300,'imran')]\n",
    "d = dict(l)\n",
    "print('dictionary is:',d)"
   ]
  },
  {
   "cell_type": "code",
   "execution_count": 4,
   "metadata": {},
   "outputs": [
    {
     "name": "stdout",
     "output_type": "stream",
     "text": [
      "dict is: {100: 'Dipak', 200: 'Mamun', 300: 'imran'}\n"
     ]
    }
   ],
   "source": [
    "# tuple of tuple:\n",
    "t = [(100,'Dipak'),(200,'Mamun'),(300,'imran')]\n",
    "d = dict(t)\n",
    "print('dict is:',d)"
   ]
  },
  {
   "cell_type": "code",
   "execution_count": 6,
   "metadata": {},
   "outputs": [
    {
     "name": "stdout",
     "output_type": "stream",
     "text": [
      "dict is: {300: 'imran', 100: 'Dipak', 200: 'Mamun'}\n"
     ]
    }
   ],
   "source": [
    "# set of tuple:\n",
    "s = {(100,'Dipak'),(200,'Mamun'),(300,'imran')}\n",
    "d = dict(s)\n",
    "print('dict is:',d)"
   ]
  },
  {
   "cell_type": "code",
   "execution_count": 8,
   "metadata": {},
   "outputs": [
    {
     "name": "stdout",
     "output_type": "stream",
     "text": [
      "dict is: {100: 'Dipak', 200: 'Mamun', 300: 'imran'}\n"
     ]
    }
   ],
   "source": [
    "# list of list:\n",
    "l = [[100,'Dipak'],[200,'Mamun'],[300,'imran']]\n",
    "d = dict(l)\n",
    "print('dict is:',d)"
   ]
  },
  {
   "cell_type": "code",
   "execution_count": 10,
   "metadata": {},
   "outputs": [
    {
     "name": "stdout",
     "output_type": "stream",
     "text": [
      "dict is: {100: 'Dipak', 200: 'Mamun', 300: 'imran'}\n"
     ]
    }
   ],
   "source": [
    "# tuple of list:\n",
    "t = ([100'Dipak'],[200,'Mamun'],[300,'imran'])\n",
    "d = dict(t)\n",
    "print('dict is:',d)"
   ]
  },
  {
   "cell_type": "code",
   "execution_count": 12,
   "metadata": {},
   "outputs": [
    {
     "name": "stdout",
     "output_type": "stream",
     "text": [
      "{'dipak', 100}\n"
     ]
    }
   ],
   "source": [
    "# By using dynamic input:\n",
    "d = eval(input('Enter Dictionary:'))\n",
    "print(d)"
   ]
  },
  {
   "cell_type": "code",
   "execution_count": 19,
   "metadata": {},
   "outputs": [
    {
     "name": "stdout",
     "output_type": "stream",
     "text": [
      "False\n",
      "True\n"
     ]
    }
   ],
   "source": [
    "# Operator for dict:\n",
    "# == operator\n",
    "d1 = {100:'dipak',200:'prony'}\n",
    "d2 = {101:'Dipak',202:'Prony'}\n",
    "print(d1==d2)\n",
    "d3 = {200:'prony',100:'dipak'}\n",
    "print(d1==d3)"
   ]
  },
  {
   "cell_type": "code",
   "execution_count": 1,
   "metadata": {},
   "outputs": [
    {
     "name": "stdout",
     "output_type": "stream",
     "text": [
      "True\n",
      "False\n",
      "False\n"
     ]
    }
   ],
   "source": [
    "# Membership operator:\n",
    "d1 = {100:'Dipak',200:'Imran'}\n",
    "print(100 in d1)\n",
    "print(150 in d1)\n",
    "print('Dipak' in d1)"
   ]
  },
  {
   "cell_type": "code",
   "execution_count": 4,
   "metadata": {},
   "outputs": [
    {
     "name": "stdout",
     "output_type": "stream",
     "text": [
      "dict_keys([100, 200, 300, 400])\n",
      "100\n",
      "200\n",
      "300\n",
      "400\n"
     ]
    }
   ],
   "source": [
    "# Important Functions / Methods for Dict:\n",
    "# how to output key\n",
    "d = {100:'A',200:'B',300:'C',400:'D'}\n",
    "k = d.keys()\n",
    "print(k)\n",
    "for key in d.keys():\n",
    "    print(key)"
   ]
  },
  {
   "cell_type": "code",
   "execution_count": 7,
   "metadata": {},
   "outputs": [
    {
     "name": "stdout",
     "output_type": "stream",
     "text": [
      "dict_values(['A', 'B', 'C', 'D'])\n",
      "A\n",
      "B\n",
      "C\n",
      "D\n"
     ]
    }
   ],
   "source": [
    "# How to output values:\n",
    "d = {100:'A',200:'B',300:'C',400:'D'}\n",
    "v = d.values()\n",
    "print(v)\n",
    "for value in d.values():\n",
    "    print(value)"
   ]
  },
  {
   "cell_type": "code",
   "execution_count": 13,
   "metadata": {},
   "outputs": [
    {
     "name": "stdout",
     "output_type": "stream",
     "text": [
      "dict_items([(100, 'A'), (200, 'B'), (300, 'C'), (400, 'D')])\n",
      "(100, 'A')\n",
      "(200, 'B')\n",
      "(300, 'C')\n",
      "(400, 'D')\n",
      "100 ....... A\n",
      "200 ....... B\n",
      "300 ....... C\n",
      "400 ....... D\n"
     ]
    }
   ],
   "source": [
    "# How to output item:\n",
    "d = {100:'A',200:'B',300:'C',400:'D'}\n",
    "i = d.items()\n",
    "print(i)\n",
    "for item in d.items():\n",
    "    print(item)\n",
    "for k,v in d.items():\n",
    "    print(k,'.......',v) "
   ]
  },
  {
   "cell_type": "code",
   "execution_count": 15,
   "metadata": {},
   "outputs": [
    {
     "name": "stdout",
     "output_type": "stream",
     "text": [
      "The Corresponding Value: B\n"
     ]
    }
   ],
   "source": [
    "# Write a program to get value from the dictionary for the given key?\n",
    "d = {100:'A',200:'B',300:'C',400:'D'}\n",
    "key = int(input('Enter key to find value:'))\n",
    "if key in d:\n",
    "    print('The Corresponding Value:', d.get(key))\n",
    "else:\n",
    "    print('The specified key is not available')"
   ]
  },
  {
   "cell_type": "code",
   "execution_count": 1,
   "metadata": {},
   "outputs": [],
   "source": [
    "# Write the program to get from the dictionary for the given value?\n",
    "d = {100:'A',200:'B',300:'C',400:'D'}\n",
    "value = input('Enter value to find key:')\n",
    "avilable = False\n",
    "for k,v in d.items():\n",
    "    if v==value:\n",
    "        print('The Corespending key:', k)\n",
    "        avilable = True\n",
    "if avilable == False:\n",
    "        print('Provided value not found in dict')"
   ]
  },
  {
   "cell_type": "code",
   "execution_count": 5,
   "metadata": {},
   "outputs": [
    {
     "name": "stdout",
     "output_type": "stream",
     "text": [
      "The sum of dictionary: 10\n"
     ]
    }
   ],
   "source": [
    "# Write a program to take dictinary from the keyboard and print sum of values..?\n",
    "d = eval(input('Enter Dictionary:'))\n",
    "sum = 0\n",
    "for item in d.items():\n",
    "    sum = sum+item[1]\n",
    "print('The sum of dictionary:', sum)"
   ]
  },
  {
   "cell_type": "code",
   "execution_count": 11,
   "metadata": {},
   "outputs": [
    {
     "ename": "TypeError",
     "evalue": "'int' object is not callable",
     "output_type": "error",
     "traceback": [
      "\u001b[1;31m---------------------------------------------------------------------------\u001b[0m",
      "\u001b[1;31mTypeError\u001b[0m                                 Traceback (most recent call last)",
      "\u001b[1;32mC:\\Users\\ADMINI~1\\AppData\\Local\\Temp/ipykernel_9428/3647532922.py\u001b[0m in \u001b[0;36m<module>\u001b[1;34m\u001b[0m\n\u001b[0;32m      1\u001b[0m \u001b[1;31m# Another Away:\u001b[0m\u001b[1;33m\u001b[0m\u001b[1;33m\u001b[0m\u001b[0m\n\u001b[0;32m      2\u001b[0m \u001b[0md\u001b[0m \u001b[1;33m=\u001b[0m \u001b[0meval\u001b[0m\u001b[1;33m(\u001b[0m\u001b[0minput\u001b[0m\u001b[1;33m(\u001b[0m\u001b[1;34m'Enter Any Dictionary:'\u001b[0m\u001b[1;33m)\u001b[0m\u001b[1;33m)\u001b[0m\u001b[1;33m\u001b[0m\u001b[1;33m\u001b[0m\u001b[0m\n\u001b[1;32m----> 3\u001b[1;33m \u001b[0mprint\u001b[0m\u001b[1;33m(\u001b[0m\u001b[1;34m'the sum of values:'\u001b[0m\u001b[1;33m,\u001b[0m\u001b[0msum\u001b[0m\u001b[1;33m(\u001b[0m\u001b[0md\u001b[0m\u001b[1;33m.\u001b[0m\u001b[0mvalues\u001b[0m\u001b[1;33m(\u001b[0m\u001b[1;33m)\u001b[0m\u001b[1;33m)\u001b[0m\u001b[1;33m)\u001b[0m\u001b[1;33m\u001b[0m\u001b[1;33m\u001b[0m\u001b[0m\n\u001b[0m",
      "\u001b[1;31mTypeError\u001b[0m: 'int' object is not callable"
     ]
    }
   ],
   "source": [
    "# Another Away:\n",
    "d = eval(input('Enter Any Dictionary:'))\n",
    "print('the sum of values:',sum(d.values()))"
   ]
  },
  {
   "cell_type": "code",
   "execution_count": 1,
   "metadata": {},
   "outputs": [
    {
     "name": "stdout",
     "output_type": "stream",
     "text": [
      "A occurs 3 times\n",
      "B occurs 2 times\n",
      "C occurs 1 times\n"
     ]
    }
   ],
   "source": [
    "# Write a program to find number of occurrences of each letter present in the given string?\n",
    "word = input('Enter any string:')\n",
    "d = {}\n",
    "for ch in word:\n",
    "    d[ch] = d.get(ch,0)+1\n",
    "for k,v in d.items():\n",
    "    print(k,'occurs',v,'times')"
   ]
  },
  {
   "cell_type": "markdown",
   "metadata": {},
   "source": [
    "<h5 style = ' color : red'><b> Write a program to accept student name and marks from the kdyboard and creates a dictionary.Also display student marks by taking student name as input :</b> </h5>"
   ]
  },
  {
   "cell_type": "code",
   "execution_count": 1,
   "metadata": {},
   "outputs": [
    {
     "name": "stdout",
     "output_type": "stream",
     "text": [
      "Student data insertion Completed\n",
      "..............................\n",
      "NAME \t\t\t MARKS\n",
      "..............................\n",
      "Dipak \t\t\t 1000\n",
      "Imran \t\t\t 10000\n",
      "Search operatin started:\n",
      "Marks of Imran Are 10000\n",
      "Types \"Yes\"\n",
      "Marks of Dipak Are 1000\n",
      "Marks of f Are null\n",
      "Types \"Yes\"\n",
      "Thank You For Using Our Application ....\n"
     ]
    }
   ],
   "source": [
    "n = int(input('Enter number of Student:'))\n",
    "d = {}\n",
    "for i in range(n):\n",
    "    name = input('Enter Student Name:')\n",
    "    marks = int(input('Enter Student Marks:'))\n",
    "    d[name] = marks\n",
    "print('Student data insertion Completed')\n",
    "print('.'*30)\n",
    "print('NAME','\\t\\t\\t','MARKS')\n",
    "print('.'*30)\n",
    "for k,v in d.items():\n",
    "    print(k,'\\t\\t\\t',v)\n",
    "print('Search operatin started:')\n",
    "while True:\n",
    "    s_name = input('Enter Student name to find marks:')\n",
    "    s_marks = d.get(s_name,'null')\n",
    "    if marks == 'null':\n",
    "        print('Studnet not found')\n",
    "    else:\n",
    "        print('Marks of',s_name, 'Are', s_marks)\n",
    "    obtion = input('Do You Want TO Find Another Student Marks[Yes/No]:')\n",
    "    if obtion.lower()=='no':\n",
    "        break\n",
    "print('Thank You For Using Our Application ....')"
   ]
  },
  {
   "cell_type": "markdown",
   "metadata": {},
   "source": [
    "<h5 style = ' color : red'><b> Nested Collection :</b> </h5>"
   ]
  },
  {
   "cell_type": "code",
   "execution_count": 10,
   "metadata": {},
   "outputs": [
    {
     "name": "stdout",
     "output_type": "stream",
     "text": [
      "Iphone\n",
      "('Innova', 'Honda', 'Maroti')\n",
      "Maroti\n"
     ]
    }
   ],
   "source": [
    "d = {\n",
    "    'cars':('Innova','Honda','Maroti'),\n",
    "    'phone':('Samsung','Iphone','Nokia')\n",
    "}\n",
    "# to display 2nd phone number    \n",
    "print(d['phone'][1])\n",
    "# Another way\n",
    "print(d.get('cars'))\n",
    "print(d.get('cars')[2])"
   ]
  },
  {
   "cell_type": "code",
   "execution_count": 14,
   "metadata": {},
   "outputs": [
    {
     "name": "stdout",
     "output_type": "stream",
     "text": [
      "Samsung\n",
      "Iphone\n",
      "Nokia\n",
      "Innova\n",
      "Honda\n",
      "Maroti\n"
     ]
    }
   ],
   "source": [
    "d = {\n",
    "    'cars':('Innova','Honda','Maroti'),\n",
    "    'phone':('Samsung','Iphone','Nokia')\n",
    "}\n",
    "# to display all phone names\n",
    "for mobile in d['phone']:\n",
    "    print(mobile)\n",
    "for cars in d.get('cars'):\n",
    "    print(cars)"
   ]
  },
  {
   "cell_type": "code",
   "execution_count": 1,
   "metadata": {},
   "outputs": [
    {
     "name": "stdout",
     "output_type": "stream",
     "text": [
      "Name of the store1:\n",
      "{'name': 'pen', 'quantity': 40}\n"
     ]
    }
   ],
   "source": [
    "# Exm 2:\n",
    "supershop = {\n",
    "    'store1':{\n",
    "        'name':'Dipak General store',\n",
    "        'items': [\n",
    "            {'name':'soup','quantity':30},\n",
    "            {'name':'brash','quantity':30},\n",
    "            {'name':'pen','quantity':40}\n",
    "        ]\n",
    "    },\n",
    "    'store_2':{\n",
    "        'name':'Imran Book store',\n",
    "        'items':[\n",
    "            {'name':'Python','quantity':'100'},\n",
    "            {'name':'Django','quantity':'200'},\n",
    "            {'name':'Plsql','quantity':'50'},\n",
    "        ]\n",
    "    }\n",
    "}\n",
    "print ('Name of the store1:')\n",
    "print(supershop['store1']['items'])\n",
    "print(supershop.get('store1').get('name')) # 2nd way\n",
    "for monir_store in supershop['store1']['items'][2]:\n",
    "\n",
    "\n"
   ]
  }
 ],
 "metadata": {
  "interpreter": {
   "hash": "11f1dc213e07634baa4c5c321dec03c05dafae643c50f20e6d1a492290c05dc2"
  },
  "kernelspec": {
   "display_name": "Python 3.9.7 64-bit",
   "language": "python",
   "name": "python3"
  },
  "language_info": {
   "codemirror_mode": {
    "name": "ipython",
    "version": 3
   },
   "file_extension": ".py",
   "mimetype": "text/x-python",
   "name": "python",
   "nbconvert_exporter": "python",
   "pygments_lexer": "ipython3",
   "version": "3.9.7"
  },
  "orig_nbformat": 4
 },
 "nbformat": 4,
 "nbformat_minor": 2
}

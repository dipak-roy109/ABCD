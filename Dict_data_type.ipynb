{
 "cells": [
  {
   "cell_type": "code",
   "execution_count": 19,
   "metadata": {},
   "outputs": [
    {
     "name": "stdout",
     "output_type": "stream",
     "text": [
      "<class 'dict'>\n"
     ]
    }
   ],
   "source": [
    "# Dict data type:\n",
    "# order is not important\n",
    "d = {100:'Dipak Roy',200:'shattajit roy',300:'apu roy'}\n",
    "print(type(d))"
   ]
  },
  {
   "cell_type": "code",
   "execution_count": 9,
   "metadata": {},
   "outputs": [
    {
     "name": "stdout",
     "output_type": "stream",
     "text": [
      "{(100, 200): ('Diapk', 'Roy')}\n"
     ]
    }
   ],
   "source": [
    "d = {}\n",
    "d [100,200] = 'Diapk','Roy'\n",
    "print(d)"
   ]
  },
  {
   "cell_type": "code",
   "execution_count": 2,
   "metadata": {},
   "outputs": [
    {
     "name": "stdout",
     "output_type": "stream",
     "text": [
      "True\n"
     ]
    }
   ],
   "source": [
    "user = {\n",
    "    'Dipak' : [100],\n",
    "    'Roy' : 'Rajibe'   \n",
    "    }\n",
    "print('Rajibe' in user.values())"
   ]
  },
  {
   "cell_type": "code",
   "execution_count": 6,
   "metadata": {},
   "outputs": [
    {
     "name": "stdout",
     "output_type": "stream",
     "text": [
      "dict_items([('Name', 'Dipak'), ('title', 'Roy'), ('contry', 'bangladesh')])\n"
     ]
    }
   ],
   "source": [
    "# how to identify usr item using items method in dect data type\n",
    "user = {\n",
    "    'Name' : 'Dipak',\n",
    "    \"title\" : 'Roy',\n",
    "    'contry' : 'bangladesh'\n",
    "    }\n",
    "print(user.items())\n"
   ]
  },
  {
   "cell_type": "code",
   "execution_count": 12,
   "metadata": {},
   "outputs": [
    {
     "name": "stdout",
     "output_type": "stream",
     "text": [
      "{'neme': 'Dipak', 'title': 'Roy'}\n",
      "None\n",
      "{}\n",
      "None\n",
      "{'neme': 'Dipak', 'title': 'Roy'}\n"
     ]
    }
   ],
   "source": [
    "# how to clear date using clear method in dect data type\n",
    "user = {\n",
    "    'neme' : \"Dipak\",\n",
    "    'title' : \"Roy\",\n",
    "}\n",
    "print(user)\n",
    "print(user.clear())\n",
    "print(user)\n",
    "\n",
    "user = {\n",
    "    'neme' : \"Dipak\",\n",
    "    'title' : \"Roy\",\n",
    "}\n",
    "user2 = user.copy() # using copy method\n",
    "print(user.clear())\n",
    "print(user2)"
   ]
  },
  {
   "cell_type": "code",
   "execution_count": 18,
   "metadata": {},
   "outputs": [
    {
     "name": "stdout",
     "output_type": "stream",
     "text": [
      "20\n"
     ]
    }
   ],
   "source": [
    "user = {\n",
    "    'neme' : \"Dipak\",\n",
    "    'title' : \"Roy\",\n",
    "    'age' : 20    \n",
    "    }\n",
    "print(user.pop('age'))\n"
   ]
  },
  {
   "cell_type": "code",
   "execution_count": 21,
   "metadata": {},
   "outputs": [
    {
     "name": "stdout",
     "output_type": "stream",
     "text": [
      "None\n",
      "{'name': 'Dipak', 'title': 'Roy', 'age': 24, 'id': 26}\n"
     ]
    }
   ],
   "source": [
    "# how to update date using update method in dect data type\n",
    "\n",
    "user = {\n",
    "    'name' : 'Dipak',\n",
    "    'title' : 'Roy',\n",
    "    'age' : 24\n",
    "    }\n",
    "print(user.update({'id':26}))\n",
    "print(user)"
   ]
  }
 ],
 "metadata": {
  "interpreter": {
   "hash": "c44560420d90d8e783ad1533784c8a7d77db420ad0899cbf48f49cdaa9008d51"
  },
  "kernelspec": {
   "display_name": "Python 3.9.7 64-bit",
   "language": "python",
   "name": "python3"
  },
  "language_info": {
   "codemirror_mode": {
    "name": "ipython",
    "version": 3
   },
   "file_extension": ".py",
   "mimetype": "text/x-python",
   "name": "python",
   "nbconvert_exporter": "python",
   "pygments_lexer": "ipython3",
   "version": "3.9.7"
  },
  "orig_nbformat": 4
 },
 "nbformat": 4,
 "nbformat_minor": 2
}
